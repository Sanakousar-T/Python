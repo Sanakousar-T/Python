{
 "cells": [
  {
   "cell_type": "markdown",
   "id": "1f8035fd",
   "metadata": {},
   "source": [
    "\n",
    "FEATURES OF PYTHON :"
   ]
  },
  {
   "cell_type": "markdown",
   "id": "37c25fd4",
   "metadata": {},
   "source": [
    "01) Python is easy to learn and analyze\n",
    "\n",
    "02) Python has high efficiency.\n",
    "\n",
    "03) Python is High level language.\n",
    "\n",
    "04) Python is Dynamically typed language.\n",
    "\n",
    "05) Python is an interpreted language.\n",
    "\n",
    "06) Python is Scripting language.\n",
    "   (Any programming language which uses interpretor as translator)\n",
    "\n",
    "07) Python is portable in nature.\n",
    "\n",
    "08) Python is platform independent.\n",
    "\n",
    "09) Python has Open source.\n",
    "\n",
    "10) Python has 7+ Crores of library functions."
   ]
  }
 ],
 "metadata": {
  "kernelspec": {
   "display_name": "base",
   "language": "python",
   "name": "python3"
  },
  "language_info": {
   "codemirror_mode": {
    "name": "ipython",
    "version": 3
   },
   "file_extension": ".py",
   "mimetype": "text/x-python",
   "name": "python",
   "nbconvert_exporter": "python",
   "pygments_lexer": "ipython3",
   "version": "3.11.5"
  }
 },
 "nbformat": 4,
 "nbformat_minor": 5
}
